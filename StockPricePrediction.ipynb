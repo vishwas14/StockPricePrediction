{
  "nbformat": 4,
  "nbformat_minor": 0,
  "metadata": {
    "colab": {
      "name": "StockPricePrediction.ipynb",
      "provenance": [],
      "collapsed_sections": [],
      "include_colab_link": true
    },
    "kernelspec": {
      "name": "python3",
      "display_name": "Python 3"
    },
    "language_info": {
      "name": "python"
    }
  },
  "cells": [
    {
      "cell_type": "markdown",
      "metadata": {
        "id": "view-in-github",
        "colab_type": "text"
      },
      "source": [
        "<a href=\"https://colab.research.google.com/github/vishwas14/StockPricePrediction/blob/main/StockPricePrediction.ipynb\" target=\"_parent\"><img src=\"https://colab.research.google.com/assets/colab-badge.svg\" alt=\"Open In Colab\"/></a>"
      ]
    },
    {
      "cell_type": "markdown",
      "metadata": {
        "id": "NGXMreyKVZ4s"
      },
      "source": [
        "# **Author: Vishwas Kumar**\n",
        "\n",
        " **Stock Market Prediction Using Numarical and Textual Analysis**\n",
        "\n",
        "\n",
        "Here, I have tried to make a hybrid model for stock price/performance prediction using numerical analysis of historical stock prices, and sentimental analysis of news headlines."
      ]
    },
    {
      "cell_type": "code",
      "metadata": {
        "id": "u5EfVLNgZZV9"
      },
      "source": [
        "import pandas as pd\n",
        "import numpy as np\n",
        "import matplotlib.pyplot as plt\n",
        "from sklearn.preprocessing import MinMaxScaler\n",
        "from sklearn.metrics import mean_squared_error\n",
        "from sklearn import metrics \n",
        "from keras.models import Sequential\n",
        "from keras.layers import Dense, LSTM\n",
        "import math\n",
        "import re\n",
        "import nltk\n",
        "from nltk.sentiment.vader import SentimentIntensityAnalyzer\n",
        "from sklearn.ensemble import RandomForestRegressor\n",
        "from sklearn.linear_model import LinearRegression"
      ],
      "execution_count": 90,
      "outputs": []
    },
    {
      "cell_type": "code",
      "metadata": {
        "colab": {
          "base_uri": "https://localhost:8080/",
          "height": 198
        },
        "id": "MUFSbDYeZuGF",
        "outputId": "3a0328da-0edf-4bcc-ac98-83614c9125fa"
      },
      "source": [
        "dataset = pd.read_csv(r'BSME.csv')\n",
        "dataset.head()"
      ],
      "execution_count": 91,
      "outputs": [
        {
          "output_type": "execute_result",
          "data": {
            "text/html": [
              "<div>\n",
              "<style scoped>\n",
              "    .dataframe tbody tr th:only-of-type {\n",
              "        vertical-align: middle;\n",
              "    }\n",
              "\n",
              "    .dataframe tbody tr th {\n",
              "        vertical-align: top;\n",
              "    }\n",
              "\n",
              "    .dataframe thead th {\n",
              "        text-align: right;\n",
              "    }\n",
              "</style>\n",
              "<table border=\"1\" class=\"dataframe\">\n",
              "  <thead>\n",
              "    <tr style=\"text-align: right;\">\n",
              "      <th></th>\n",
              "      <th>Date</th>\n",
              "      <th>Open</th>\n",
              "      <th>High</th>\n",
              "      <th>Low</th>\n",
              "      <th>Close</th>\n",
              "      <th>Adj Close</th>\n",
              "      <th>Volume</th>\n",
              "    </tr>\n",
              "  </thead>\n",
              "  <tbody>\n",
              "    <tr>\n",
              "      <th>0</th>\n",
              "      <td>16-10-2019</td>\n",
              "      <td>38637.05078</td>\n",
              "      <td>38666.37891</td>\n",
              "      <td>38416.67188</td>\n",
              "      <td>38598.98828</td>\n",
              "      <td>38598.98828</td>\n",
              "      <td>27500.0</td>\n",
              "    </tr>\n",
              "    <tr>\n",
              "      <th>1</th>\n",
              "      <td>17-10-2019</td>\n",
              "      <td>38647.44141</td>\n",
              "      <td>39104.69141</td>\n",
              "      <td>38557.42969</td>\n",
              "      <td>39052.05859</td>\n",
              "      <td>39052.05859</td>\n",
              "      <td>47100.0</td>\n",
              "    </tr>\n",
              "    <tr>\n",
              "      <th>2</th>\n",
              "      <td>18-10-2019</td>\n",
              "      <td>39087.82813</td>\n",
              "      <td>39361.05859</td>\n",
              "      <td>38963.60156</td>\n",
              "      <td>39298.37891</td>\n",
              "      <td>39298.37891</td>\n",
              "      <td>42400.0</td>\n",
              "    </tr>\n",
              "    <tr>\n",
              "      <th>3</th>\n",
              "      <td>22-10-2019</td>\n",
              "      <td>39233.39844</td>\n",
              "      <td>39426.46875</td>\n",
              "      <td>38924.85156</td>\n",
              "      <td>38963.83984</td>\n",
              "      <td>38963.83984</td>\n",
              "      <td>54500.0</td>\n",
              "    </tr>\n",
              "    <tr>\n",
              "      <th>4</th>\n",
              "      <td>23-10-2019</td>\n",
              "      <td>39063.83984</td>\n",
              "      <td>39196.67188</td>\n",
              "      <td>38866.07813</td>\n",
              "      <td>39058.82813</td>\n",
              "      <td>39058.82813</td>\n",
              "      <td>41000.0</td>\n",
              "    </tr>\n",
              "  </tbody>\n",
              "</table>\n",
              "</div>"
            ],
            "text/plain": [
              "         Date         Open         High  ...        Close    Adj Close   Volume\n",
              "0  16-10-2019  38637.05078  38666.37891  ...  38598.98828  38598.98828  27500.0\n",
              "1  17-10-2019  38647.44141  39104.69141  ...  39052.05859  39052.05859  47100.0\n",
              "2  18-10-2019  39087.82813  39361.05859  ...  39298.37891  39298.37891  42400.0\n",
              "3  22-10-2019  39233.39844  39426.46875  ...  38963.83984  38963.83984  54500.0\n",
              "4  23-10-2019  39063.83984  39196.67188  ...  39058.82813  39058.82813  41000.0\n",
              "\n",
              "[5 rows x 7 columns]"
            ]
          },
          "metadata": {
            "tags": []
          },
          "execution_count": 91
        }
      ]
    },
    {
      "cell_type": "code",
      "metadata": {
        "colab": {
          "base_uri": "https://localhost:8080/",
          "height": 501
        },
        "id": "27rP6NHwdJug",
        "outputId": "60487d89-fb8d-4d0b-883c-def9e41a31bd"
      },
      "source": [
        "dataset['Date'] = pd.to_datetime(dataset.Date,format='%d-%m-%Y')\n",
        "dataset.index = dataset['Date']\n",
        "dataset.dropna(inplace=True)\n",
        "#plot\n",
        "plt.figure(figsize=(16,8))\n",
        "plt.plot(dataset['Close'], label='Close Price history')"
      ],
      "execution_count": 92,
      "outputs": [
        {
          "output_type": "execute_result",
          "data": {
            "text/plain": [
              "[<matplotlib.lines.Line2D at 0x7fa841d60150>]"
            ]
          },
          "metadata": {
            "tags": []
          },
          "execution_count": 92
        },
        {
          "output_type": "display_data",
          "data": {
            "image/png": "[encoded data removed]",
            "text/plain": [
              "<Figure size 1152x576 with 1 Axes>"
            ]
          },
          "metadata": {
            "tags": [],
            "needs_background": "light"
          }
        }
      ]
    },
    {
      "cell_type": "code",
      "metadata": {
        "id": "Yaql7Cj_gZLn"
      },
      "source": [
        "np.random.seed(7)"
      ],
      "execution_count": 93,
      "outputs": []
    },
    {
      "cell_type": "code",
      "metadata": {
        "id": "Rw84bgyyH63L"
      },
      "source": [
        "closing_data = pd.read_csv('BSME.csv', usecols=[5])\n",
        "closing_data.dropna(inplace=True)\n",
        "closing_data = closing_data.values\n",
        "closing_data = closing_data.astype('float32')"
      ],
      "execution_count": 94,
      "outputs": []
    },
    {
      "cell_type": "code",
      "metadata": {
        "id": "An65urhCNFJx"
      },
      "source": [
        "def create_dataset(closing_data, look_back=1):\n",
        "\tdataX, dataY = [], []\n",
        "\tfor i in range(len(closing_data)-look_back-1):\n",
        "\t\ta = closing_data[i:(i+look_back), 0]\n",
        "\t\tdataX.append(a)\n",
        "\t\tdataY.append(closing_data[i + look_back, 0])\n",
        "\treturn np.array(dataX), np.array(dataY)"
      ],
      "execution_count": 95,
      "outputs": []
    },
    {
      "cell_type": "code",
      "metadata": {
        "id": "dElpYQabM6Rm"
      },
      "source": [
        "# normalize the dataset\n",
        "scaler = MinMaxScaler(feature_range=(0, 1))\n",
        "closing_data = scaler.fit_transform(closing_data)"
      ],
      "execution_count": 96,
      "outputs": []
    },
    {
      "cell_type": "code",
      "metadata": {
        "id": "2tiJIriDT6yL"
      },
      "source": [
        "# split into train and test sets\n",
        "train_size = int(len(closing_data) * 0.70)\n",
        "test_size = len(closing_data) - train_size\n",
        "train, test = closing_data[0:train_size,:], closing_data[train_size:len(closing_data),:]"
      ],
      "execution_count": 97,
      "outputs": []
    },
    {
      "cell_type": "code",
      "metadata": {
        "id": "CPDkpgsjTxdi"
      },
      "source": [
        "\n",
        "# reshape into X=t and Y=t+1\n",
        "look_back = 3\n",
        "xtrain, ytrain = create_dataset(train, look_back)\n",
        "xtest, ytest = create_dataset(test, look_back)\n",
        "#reshape input to be [samples, time steps, features]\n",
        "xtrain = np.reshape(xtrain, (xtrain.shape[0], xtrain.shape[1], 1))\n",
        "xtest = np.reshape(xtest, (xtest.shape[0], xtest.shape[1], 1))"
      ],
      "execution_count": 98,
      "outputs": []
    },
    {
      "cell_type": "code",
      "metadata": {
        "colab": {
          "base_uri": "https://localhost:8080/"
        },
        "id": "oD9sUyUoK5_F",
        "outputId": "20f36af2-72f2-48f7-a13d-173a2e0b5c24"
      },
      "source": [
        "print(xtrain[0])\n",
        "print(ytrain[0])"
      ],
      "execution_count": 99,
      "outputs": [
        {
          "output_type": "stream",
          "text": [
            "[[0.790022  ]\n",
            " [0.81838953]\n",
            " [0.8338121 ]]\n",
            "0.8128661\n"
          ],
          "name": "stdout"
        }
      ]
    },
    {
      "cell_type": "code",
      "metadata": {
        "id": "1avVZ5SfNMT2",
        "colab": {
          "base_uri": "https://localhost:8080/"
        },
        "outputId": "4c7cd635-0e62-4b7f-962d-95e7067112ed"
      },
      "source": [
        "model = Sequential()\n",
        "model.add(LSTM(7, input_shape=(look_back, 1)))\n",
        "model.add(Dense(1))\n",
        "model.compile(loss='mean_squared_error', optimizer='adam')\n",
        "model.fit(xtrain, ytrain, epochs=100, batch_size=1, verbose=2)"
      ],
      "execution_count": 100,
      "outputs": [
        {
          "output_type": "stream",
          "text": [
            "Epoch 1/100\n",
            "170/170 - 2s - loss: 0.3385\n",
            "Epoch 2/100\n",
            "170/170 - 0s - loss: 0.0397\n",
            "Epoch 3/100\n",
            "170/170 - 0s - loss: 0.0239\n",
            "Epoch 4/100\n",
            "170/170 - 0s - loss: 0.0138\n",
            "Epoch 5/100\n",
            "170/170 - 0s - loss: 0.0071\n",
            "Epoch 6/100\n",
            "170/170 - 0s - loss: 0.0042\n",
            "Epoch 7/100\n",
            "170/170 - 0s - loss: 0.0033\n",
            "Epoch 8/100\n",
            "170/170 - 0s - loss: 0.0031\n",
            "Epoch 9/100\n",
            "170/170 - 0s - loss: 0.0031\n",
            "Epoch 10/100\n",
            "170/170 - 0s - loss: 0.0032\n",
            "Epoch 11/100\n",
            "170/170 - 0s - loss: 0.0032\n",
            "Epoch 12/100\n",
            "170/170 - 0s - loss: 0.0033\n",
            "Epoch 13/100\n",
            "170/170 - 0s - loss: 0.0032\n",
            "Epoch 14/100\n",
            "170/170 - 0s - loss: 0.0031\n",
            "Epoch 15/100\n",
            "170/170 - 0s - loss: 0.0032\n",
            "Epoch 16/100\n",
            "170/170 - 0s - loss: 0.0030\n",
            "Epoch 17/100\n",
            "170/170 - 0s - loss: 0.0032\n",
            "Epoch 18/100\n",
            "170/170 - 0s - loss: 0.0032\n",
            "Epoch 19/100\n",
            "170/170 - 0s - loss: 0.0030\n",
            "Epoch 20/100\n",
            "170/170 - 0s - loss: 0.0032\n",
            "Epoch 21/100\n",
            "170/170 - 0s - loss: 0.0032\n",
            "Epoch 22/100\n",
            "170/170 - 0s - loss: 0.0030\n",
            "Epoch 23/100\n",
            "170/170 - 0s - loss: 0.0031\n",
            "Epoch 24/100\n",
            "170/170 - 0s - loss: 0.0031\n",
            "Epoch 25/100\n",
            "170/170 - 0s - loss: 0.0032\n",
            "Epoch 26/100\n",
            "170/170 - 0s - loss: 0.0030\n",
            "Epoch 27/100\n",
            "170/170 - 0s - loss: 0.0030\n",
            "Epoch 28/100\n",
            "170/170 - 0s - loss: 0.0030\n",
            "Epoch 29/100\n",
            "170/170 - 0s - loss: 0.0032\n",
            "Epoch 30/100\n",
            "170/170 - 0s - loss: 0.0031\n",
            "Epoch 31/100\n",
            "170/170 - 0s - loss: 0.0029\n",
            "Epoch 32/100\n",
            "170/170 - 0s - loss: 0.0028\n",
            "Epoch 33/100\n",
            "170/170 - 0s - loss: 0.0030\n",
            "Epoch 34/100\n",
            "170/170 - 0s - loss: 0.0030\n",
            "Epoch 35/100\n",
            "170/170 - 0s - loss: 0.0031\n",
            "Epoch 36/100\n",
            "170/170 - 0s - loss: 0.0030\n",
            "Epoch 37/100\n",
            "170/170 - 0s - loss: 0.0029\n",
            "Epoch 38/100\n",
            "170/170 - 0s - loss: 0.0029\n",
            "Epoch 39/100\n",
            "170/170 - 0s - loss: 0.0028\n",
            "Epoch 40/100\n",
            "170/170 - 0s - loss: 0.0029\n",
            "Epoch 41/100\n",
            "170/170 - 0s - loss: 0.0029\n",
            "Epoch 42/100\n",
            "170/170 - 0s - loss: 0.0029\n",
            "Epoch 43/100\n",
            "170/170 - 0s - loss: 0.0029\n",
            "Epoch 44/100\n",
            "170/170 - 0s - loss: 0.0029\n",
            "Epoch 45/100\n",
            "170/170 - 0s - loss: 0.0028\n",
            "Epoch 46/100\n",
            "170/170 - 0s - loss: 0.0028\n",
            "Epoch 47/100\n",
            "170/170 - 0s - loss: 0.0029\n",
            "Epoch 48/100\n",
            "170/170 - 0s - loss: 0.0029\n",
            "Epoch 49/100\n",
            "170/170 - 0s - loss: 0.0028\n",
            "Epoch 50/100\n",
            "170/170 - 0s - loss: 0.0029\n",
            "Epoch 51/100\n",
            "170/170 - 0s - loss: 0.0028\n",
            "Epoch 52/100\n",
            "170/170 - 0s - loss: 0.0027\n",
            "Epoch 53/100\n",
            "170/170 - 0s - loss: 0.0029\n",
            "Epoch 54/100\n",
            "170/170 - 0s - loss: 0.0029\n",
            "Epoch 55/100\n",
            "170/170 - 0s - loss: 0.0027\n",
            "Epoch 56/100\n",
            "170/170 - 0s - loss: 0.0027\n",
            "Epoch 57/100\n",
            "170/170 - 0s - loss: 0.0029\n",
            "Epoch 58/100\n",
            "170/170 - 0s - loss: 0.0028\n",
            "Epoch 59/100\n",
            "170/170 - 0s - loss: 0.0027\n",
            "Epoch 60/100\n",
            "170/170 - 0s - loss: 0.0027\n",
            "Epoch 61/100\n",
            "170/170 - 0s - loss: 0.0027\n",
            "Epoch 62/100\n",
            "170/170 - 0s - loss: 0.0026\n",
            "Epoch 63/100\n",
            "170/170 - 0s - loss: 0.0026\n",
            "Epoch 64/100\n",
            "170/170 - 0s - loss: 0.0026\n",
            "Epoch 65/100\n",
            "170/170 - 0s - loss: 0.0026\n",
            "Epoch 66/100\n",
            "170/170 - 0s - loss: 0.0026\n",
            "Epoch 67/100\n",
            "170/170 - 0s - loss: 0.0027\n",
            "Epoch 68/100\n",
            "170/170 - 0s - loss: 0.0026\n",
            "Epoch 69/100\n",
            "170/170 - 0s - loss: 0.0026\n",
            "Epoch 70/100\n",
            "170/170 - 0s - loss: 0.0026\n",
            "Epoch 71/100\n",
            "170/170 - 0s - loss: 0.0026\n",
            "Epoch 72/100\n",
            "170/170 - 0s - loss: 0.0026\n",
            "Epoch 73/100\n",
            "170/170 - 0s - loss: 0.0026\n",
            "Epoch 74/100\n",
            "170/170 - 0s - loss: 0.0026\n",
            "Epoch 75/100\n",
            "170/170 - 0s - loss: 0.0025\n",
            "Epoch 76/100\n",
            "170/170 - 0s - loss: 0.0025\n",
            "Epoch 77/100\n",
            "170/170 - 0s - loss: 0.0026\n",
            "Epoch 78/100\n",
            "170/170 - 0s - loss: 0.0025\n",
            "Epoch 79/100\n",
            "170/170 - 0s - loss: 0.0025\n",
            "Epoch 80/100\n",
            "170/170 - 0s - loss: 0.0024\n",
            "Epoch 81/100\n",
            "170/170 - 0s - loss: 0.0024\n",
            "Epoch 82/100\n",
            "170/170 - 0s - loss: 0.0026\n",
            "Epoch 83/100\n",
            "170/170 - 0s - loss: 0.0027\n",
            "Epoch 84/100\n",
            "170/170 - 0s - loss: 0.0024\n",
            "Epoch 85/100\n",
            "170/170 - 0s - loss: 0.0024\n",
            "Epoch 86/100\n",
            "170/170 - 0s - loss: 0.0024\n",
            "Epoch 87/100\n",
            "170/170 - 0s - loss: 0.0024\n",
            "Epoch 88/100\n",
            "170/170 - 0s - loss: 0.0023\n",
            "Epoch 89/100\n",
            "170/170 - 0s - loss: 0.0023\n",
            "Epoch 90/100\n",
            "170/170 - 0s - loss: 0.0024\n",
            "Epoch 91/100\n",
            "170/170 - 0s - loss: 0.0024\n",
            "Epoch 92/100\n",
            "170/170 - 0s - loss: 0.0023\n",
            "Epoch 93/100\n",
            "170/170 - 0s - loss: 0.0024\n",
            "Epoch 94/100\n",
            "170/170 - 0s - loss: 0.0023\n",
            "Epoch 95/100\n",
            "170/170 - 0s - loss: 0.0023\n",
            "Epoch 96/100\n",
            "170/170 - 0s - loss: 0.0023\n",
            "Epoch 97/100\n",
            "170/170 - 0s - loss: 0.0024\n",
            "Epoch 98/100\n",
            "170/170 - 0s - loss: 0.0023\n",
            "Epoch 99/100\n",
            "170/170 - 0s - loss: 0.0024\n",
            "Epoch 100/100\n",
            "170/170 - 0s - loss: 0.0024\n"
          ],
          "name": "stdout"
        },
        {
          "output_type": "execute_result",
          "data": {
            "text/plain": [
              "<tensorflow.python.keras.callbacks.History at 0x7fa841d82a10>"
            ]
          },
          "metadata": {
            "tags": []
          },
          "execution_count": 100
        }
      ]
    },
    {
      "cell_type": "code",
      "metadata": {
        "id": "R6OGWkogP5u4"
      },
      "source": [
        "# make predictions\n",
        "train_predict = model.predict(xtrain)\n",
        "test_predict = model.predict(xtest)\n",
        "# invert predictions\n",
        "train_predict = scaler.inverse_transform(train_predict)\n",
        "ytrain = scaler.inverse_transform([ytrain])\n",
        "test_predict = scaler.inverse_transform(test_predict)\n",
        "ytest = scaler.inverse_transform([ytest])\n"
      ],
      "execution_count": 101,
      "outputs": []
    },
    {
      "cell_type": "code",
      "metadata": {
        "id": "ZYin4J97ROLL",
        "colab": {
          "base_uri": "https://localhost:8080/",
          "height": 265
        },
        "outputId": "487438d7-7de8-4727-910c-3db31443830e"
      },
      "source": [
        "# shift train predictions for plotting\n",
        "train_predict_plot = np.empty_like(closing_data)\n",
        "train_predict_plot[:, :] = np.nan\n",
        "train_predict_plot[look_back:len(train_predict)+look_back, :] = train_predict\n",
        "# shift test predictions for plotting\n",
        "test_predict_plot = np.empty_like(closing_data)\n",
        "test_predict_plot[:, :] = np.nan\n",
        "test_predict_plot[len(train_predict)+(look_back*2)+1:len(closing_data)-1, :] = test_predict\n",
        "# plot baseline and predictions\n",
        "plt.plot(scaler.inverse_transform(closing_data))\n",
        "plt.plot(train_predict_plot,color='red')\n",
        "plt.plot(test_predict_plot,color='green')\n",
        "plt.show()"
      ],
      "execution_count": 102,
      "outputs": [
        {
          "output_type": "display_data",
          "data": {
            "image/png": "[encoded data removed]",
            "text/plain": [
              "<Figure size 432x288 with 1 Axes>"
            ]
          },
          "metadata": {
            "tags": [],
            "needs_background": "light"
          }
        }
      ]
    },
    {
      "cell_type": "code",
      "metadata": {
        "id": "eK28xdGoRQ-U",
        "colab": {
          "base_uri": "https://localhost:8080/"
        },
        "outputId": "59e50068-4e09-4205-e4be-33576731436f"
      },
      "source": [
        "# calculate root mean squared error\n",
        "train_score = math.sqrt(mean_squared_error(ytrain[0], train_predict[:,0]))\n",
        "print(\"Root mean square error (train score) = \",train_score,\" RMSE\")\n",
        "test_score = math.sqrt(mean_squared_error(ytest[0], test_predict[:,0]))\n",
        "print(\"Root mean square error (test score) = \",test_score,\" RMSE\")"
      ],
      "execution_count": 103,
      "outputs": [
        {
          "output_type": "stream",
          "text": [
            "Root mean square error (train score) =  735.9734684004964  RMSE\n",
            "Root mean square error (test score) =  456.42593397739205  RMSE\n"
          ],
          "name": "stdout"
        }
      ]
    },
    {
      "cell_type": "code",
      "metadata": {
        "colab": {
          "base_uri": "https://localhost:8080/",
          "height": 198
        },
        "id": "Wp6b2oWoRIe1",
        "outputId": "79c918f0-fc8d-4ab0-90c2-643ccd38cc47"
      },
      "source": [
        "columns = ['Date','Category','Headlines']\n",
        "news_data = pd.read_csv(r'YahooNewsHeadlines.csv', names = columns)\n",
        "news_data.head()"
      ],
      "execution_count": 104,
      "outputs": [
        {
          "output_type": "execute_result",
          "data": {
            "text/html": [
              "<div>\n",
              "<style scoped>\n",
              "    .dataframe tbody tr th:only-of-type {\n",
              "        vertical-align: middle;\n",
              "    }\n",
              "\n",
              "    .dataframe tbody tr th {\n",
              "        vertical-align: top;\n",
              "    }\n",
              "\n",
              "    .dataframe thead th {\n",
              "        text-align: right;\n",
              "    }\n",
              "</style>\n",
              "<table border=\"1\" class=\"dataframe\">\n",
              "  <thead>\n",
              "    <tr style=\"text-align: right;\">\n",
              "      <th></th>\n",
              "      <th>Date</th>\n",
              "      <th>Category</th>\n",
              "      <th>Headlines</th>\n",
              "    </tr>\n",
              "  </thead>\n",
              "  <tbody>\n",
              "    <tr>\n",
              "      <th>0</th>\n",
              "      <td>publish_date</td>\n",
              "      <td>headline_category</td>\n",
              "      <td>headline_text</td>\n",
              "    </tr>\n",
              "    <tr>\n",
              "      <th>1</th>\n",
              "      <td>20010101</td>\n",
              "      <td>sports.wwe</td>\n",
              "      <td>win over cena satisfying but defeating underta...</td>\n",
              "    </tr>\n",
              "    <tr>\n",
              "      <th>2</th>\n",
              "      <td>20010102</td>\n",
              "      <td>unknown</td>\n",
              "      <td>Status quo will not be disturbed at Ayodhya; s...</td>\n",
              "    </tr>\n",
              "    <tr>\n",
              "      <th>3</th>\n",
              "      <td>20010102</td>\n",
              "      <td>unknown</td>\n",
              "      <td>Fissures in Hurriyat over Pak visit</td>\n",
              "    </tr>\n",
              "    <tr>\n",
              "      <th>4</th>\n",
              "      <td>20010102</td>\n",
              "      <td>unknown</td>\n",
              "      <td>America's unwanted heading for India?</td>\n",
              "    </tr>\n",
              "  </tbody>\n",
              "</table>\n",
              "</div>"
            ],
            "text/plain": [
              "           Date  ...                                          Headlines\n",
              "0  publish_date  ...                                      headline_text\n",
              "1      20010101  ...  win over cena satisfying but defeating underta...\n",
              "2      20010102  ...  Status quo will not be disturbed at Ayodhya; s...\n",
              "3      20010102  ...                Fissures in Hurriyat over Pak visit\n",
              "4      20010102  ...              America's unwanted heading for India?\n",
              "\n",
              "[5 rows x 3 columns]"
            ]
          },
          "metadata": {
            "tags": []
          },
          "execution_count": 104
        }
      ]
    },
    {
      "cell_type": "code",
      "metadata": {
        "id": "Gsyx_-vVXeWA",
        "colab": {
          "base_uri": "https://localhost:8080/",
          "height": 198
        },
        "outputId": "60679765-11cd-4855-8178-eb890f28eb40"
      },
      "source": [
        "news_data.head()"
      ],
      "execution_count": 105,
      "outputs": [
        {
          "output_type": "execute_result",
          "data": {
            "text/html": [
              "<div>\n",
              "<style scoped>\n",
              "    .dataframe tbody tr th:only-of-type {\n",
              "        vertical-align: middle;\n",
              "    }\n",
              "\n",
              "    .dataframe tbody tr th {\n",
              "        vertical-align: top;\n",
              "    }\n",
              "\n",
              "    .dataframe thead th {\n",
              "        text-align: right;\n",
              "    }\n",
              "</style>\n",
              "<table border=\"1\" class=\"dataframe\">\n",
              "  <thead>\n",
              "    <tr style=\"text-align: right;\">\n",
              "      <th></th>\n",
              "      <th>Date</th>\n",
              "      <th>Category</th>\n",
              "      <th>Headlines</th>\n",
              "    </tr>\n",
              "  </thead>\n",
              "  <tbody>\n",
              "    <tr>\n",
              "      <th>0</th>\n",
              "      <td>publish_date</td>\n",
              "      <td>headline_category</td>\n",
              "      <td>headline_text</td>\n",
              "    </tr>\n",
              "    <tr>\n",
              "      <th>1</th>\n",
              "      <td>20010101</td>\n",
              "      <td>sports.wwe</td>\n",
              "      <td>win over cena satisfying but defeating underta...</td>\n",
              "    </tr>\n",
              "    <tr>\n",
              "      <th>2</th>\n",
              "      <td>20010102</td>\n",
              "      <td>unknown</td>\n",
              "      <td>Status quo will not be disturbed at Ayodhya; s...</td>\n",
              "    </tr>\n",
              "    <tr>\n",
              "      <th>3</th>\n",
              "      <td>20010102</td>\n",
              "      <td>unknown</td>\n",
              "      <td>Fissures in Hurriyat over Pak visit</td>\n",
              "    </tr>\n",
              "    <tr>\n",
              "      <th>4</th>\n",
              "      <td>20010102</td>\n",
              "      <td>unknown</td>\n",
              "      <td>America's unwanted heading for India?</td>\n",
              "    </tr>\n",
              "  </tbody>\n",
              "</table>\n",
              "</div>"
            ],
            "text/plain": [
              "           Date  ...                                          Headlines\n",
              "0  publish_date  ...                                      headline_text\n",
              "1      20010101  ...  win over cena satisfying but defeating underta...\n",
              "2      20010102  ...  Status quo will not be disturbed at Ayodhya; s...\n",
              "3      20010102  ...                Fissures in Hurriyat over Pak visit\n",
              "4      20010102  ...              America's unwanted heading for India?\n",
              "\n",
              "[5 rows x 3 columns]"
            ]
          },
          "metadata": {
            "tags": []
          },
          "execution_count": 105
        }
      ]
    },
    {
      "cell_type": "code",
      "metadata": {
        "colab": {
          "base_uri": "https://localhost:8080/"
        },
        "id": "NWRuHvzrZvqs",
        "outputId": "73ac6014-b376-4828-df3a-afdc016847e7"
      },
      "source": [
        "news_data.drop(0, inplace=True)\n",
        "news_data.drop('Category', axis = 1, inplace=True)\n",
        "news_data.info()"
      ],
      "execution_count": 106,
      "outputs": [
        {
          "output_type": "stream",
          "text": [
            "<class 'pandas.core.frame.DataFrame'>\n",
            "Int64Index: 206506 entries, 1 to 206506\n",
            "Data columns (total 2 columns):\n",
            " #   Column     Non-Null Count   Dtype \n",
            "---  ------     --------------   ----- \n",
            " 0   Date       206506 non-null  object\n",
            " 1   Headlines  206506 non-null  object\n",
            "dtypes: object(2)\n",
            "memory usage: 4.7+ MB\n"
          ],
          "name": "stdout"
        }
      ]
    },
    {
      "cell_type": "code",
      "metadata": {
        "colab": {
          "base_uri": "https://localhost:8080/",
          "height": 198
        },
        "id": "H36SD0iQauc8",
        "outputId": "611d9778-eb0e-4183-9e86-233afdd0c479"
      },
      "source": [
        "# Restructuring the date format\n",
        "news_data['Date'] = pd.to_datetime(news_data['Date'],format= '%Y %m %d')\n",
        "news_data.head()"
      ],
      "execution_count": 107,
      "outputs": [
        {
          "output_type": "execute_result",
          "data": {
            "text/html": [
              "<div>\n",
              "<style scoped>\n",
              "    .dataframe tbody tr th:only-of-type {\n",
              "        vertical-align: middle;\n",
              "    }\n",
              "\n",
              "    .dataframe tbody tr th {\n",
              "        vertical-align: top;\n",
              "    }\n",
              "\n",
              "    .dataframe thead th {\n",
              "        text-align: right;\n",
              "    }\n",
              "</style>\n",
              "<table border=\"1\" class=\"dataframe\">\n",
              "  <thead>\n",
              "    <tr style=\"text-align: right;\">\n",
              "      <th></th>\n",
              "      <th>Date</th>\n",
              "      <th>Headlines</th>\n",
              "    </tr>\n",
              "  </thead>\n",
              "  <tbody>\n",
              "    <tr>\n",
              "      <th>1</th>\n",
              "      <td>2001-01-01</td>\n",
              "      <td>win over cena satisfying but defeating underta...</td>\n",
              "    </tr>\n",
              "    <tr>\n",
              "      <th>2</th>\n",
              "      <td>2001-01-02</td>\n",
              "      <td>Status quo will not be disturbed at Ayodhya; s...</td>\n",
              "    </tr>\n",
              "    <tr>\n",
              "      <th>3</th>\n",
              "      <td>2001-01-02</td>\n",
              "      <td>Fissures in Hurriyat over Pak visit</td>\n",
              "    </tr>\n",
              "    <tr>\n",
              "      <th>4</th>\n",
              "      <td>2001-01-02</td>\n",
              "      <td>America's unwanted heading for India?</td>\n",
              "    </tr>\n",
              "    <tr>\n",
              "      <th>5</th>\n",
              "      <td>2001-01-02</td>\n",
              "      <td>For bigwigs; it is destination Goa</td>\n",
              "    </tr>\n",
              "  </tbody>\n",
              "</table>\n",
              "</div>"
            ],
            "text/plain": [
              "        Date                                          Headlines\n",
              "1 2001-01-01  win over cena satisfying but defeating underta...\n",
              "2 2001-01-02  Status quo will not be disturbed at Ayodhya; s...\n",
              "3 2001-01-02                Fissures in Hurriyat over Pak visit\n",
              "4 2001-01-02              America's unwanted heading for India?\n",
              "5 2001-01-02                 For bigwigs; it is destination Goa"
            ]
          },
          "metadata": {
            "tags": []
          },
          "execution_count": 107
        }
      ]
    },
    {
      "cell_type": "code",
      "metadata": {
        "colab": {
          "base_uri": "https://localhost:8080/",
          "height": 407
        },
        "id": "cT5TO4xGbEJz",
        "outputId": "bf46dda4-303e-4047-c2bc-971ead15a3a8"
      },
      "source": [
        "#Grouping the headlines for each day\n",
        "news_data['Headlines'] = news_data.groupby(['Date']).transform(lambda x : ' '.join(x)) \n",
        "news_data = news_data.drop_duplicates() \n",
        "news_data.reset_index(inplace = True, drop = True)\n",
        "news_data"
      ],
      "execution_count": 108,
      "outputs": [
        {
          "output_type": "execute_result",
          "data": {
            "text/html": [
              "<div>\n",
              "<style scoped>\n",
              "    .dataframe tbody tr th:only-of-type {\n",
              "        vertical-align: middle;\n",
              "    }\n",
              "\n",
              "    .dataframe tbody tr th {\n",
              "        vertical-align: top;\n",
              "    }\n",
              "\n",
              "    .dataframe thead th {\n",
              "        text-align: right;\n",
              "    }\n",
              "</style>\n",
              "<table border=\"1\" class=\"dataframe\">\n",
              "  <thead>\n",
              "    <tr style=\"text-align: right;\">\n",
              "      <th></th>\n",
              "      <th>Date</th>\n",
              "      <th>Headlines</th>\n",
              "    </tr>\n",
              "  </thead>\n",
              "  <tbody>\n",
              "    <tr>\n",
              "      <th>0</th>\n",
              "      <td>2001-01-01</td>\n",
              "      <td>win over cena satisfying but defeating underta...</td>\n",
              "    </tr>\n",
              "    <tr>\n",
              "      <th>1</th>\n",
              "      <td>2001-01-02</td>\n",
              "      <td>Status quo will not be disturbed at Ayodhya; s...</td>\n",
              "    </tr>\n",
              "    <tr>\n",
              "      <th>2</th>\n",
              "      <td>2001-01-03</td>\n",
              "      <td>Powerless north India gropes in the dark Think...</td>\n",
              "    </tr>\n",
              "    <tr>\n",
              "      <th>3</th>\n",
              "      <td>2001-01-04</td>\n",
              "      <td>The string that pulled Stephen Hawking to Indi...</td>\n",
              "    </tr>\n",
              "    <tr>\n",
              "      <th>4</th>\n",
              "      <td>2001-01-05</td>\n",
              "      <td>Light combat craft takes India into club class...</td>\n",
              "    </tr>\n",
              "    <tr>\n",
              "      <th>...</th>\n",
              "      <td>...</td>\n",
              "      <td>...</td>\n",
              "    </tr>\n",
              "    <tr>\n",
              "      <th>815</th>\n",
              "      <td>2003-05-07</td>\n",
              "      <td>Ahmedabad's Date with Scintillating Shankar! Z...</td>\n",
              "    </tr>\n",
              "    <tr>\n",
              "      <th>816</th>\n",
              "      <td>2003-05-08</td>\n",
              "      <td>A-I to be fully operational soon: Naik Goa to ...</td>\n",
              "    </tr>\n",
              "    <tr>\n",
              "      <th>817</th>\n",
              "      <td>2003-05-09</td>\n",
              "      <td>SACRED SPACEBRTalking Peace THE SPEAKING TREEB...</td>\n",
              "    </tr>\n",
              "    <tr>\n",
              "      <th>818</th>\n",
              "      <td>2003-05-10</td>\n",
              "      <td>Citizen's initiative sought to improve city's ...</td>\n",
              "    </tr>\n",
              "    <tr>\n",
              "      <th>819</th>\n",
              "      <td>2003-05-11</td>\n",
              "      <td>Cricket will always be my first love: Jadeja H...</td>\n",
              "    </tr>\n",
              "  </tbody>\n",
              "</table>\n",
              "<p>820 rows × 2 columns</p>\n",
              "</div>"
            ],
            "text/plain": [
              "          Date                                          Headlines\n",
              "0   2001-01-01  win over cena satisfying but defeating underta...\n",
              "1   2001-01-02  Status quo will not be disturbed at Ayodhya; s...\n",
              "2   2001-01-03  Powerless north India gropes in the dark Think...\n",
              "3   2001-01-04  The string that pulled Stephen Hawking to Indi...\n",
              "4   2001-01-05  Light combat craft takes India into club class...\n",
              "..         ...                                                ...\n",
              "815 2003-05-07  Ahmedabad's Date with Scintillating Shankar! Z...\n",
              "816 2003-05-08  A-I to be fully operational soon: Naik Goa to ...\n",
              "817 2003-05-09  SACRED SPACEBRTalking Peace THE SPEAKING TREEB...\n",
              "818 2003-05-10  Citizen's initiative sought to improve city's ...\n",
              "819 2003-05-11  Cricket will always be my first love: Jadeja H...\n",
              "\n",
              "[820 rows x 2 columns]"
            ]
          },
          "metadata": {
            "tags": []
          },
          "execution_count": 108
        }
      ]
    },
    {
      "cell_type": "code",
      "metadata": {
        "colab": {
          "base_uri": "https://localhost:8080/"
        },
        "id": "uhZKWKrlb-9v",
        "outputId": "c41dcf2e-1ef5-4f77-8c67-3093df4ea61c"
      },
      "source": [
        "  news_data['Headlines']"
      ],
      "execution_count": 109,
      "outputs": [
        {
          "output_type": "execute_result",
          "data": {
            "text/plain": [
              "0      win over cena satisfying but defeating underta...\n",
              "1      Status quo will not be disturbed at Ayodhya; s...\n",
              "2      Powerless north India gropes in the dark Think...\n",
              "3      The string that pulled Stephen Hawking to Indi...\n",
              "4      Light combat craft takes India into club class...\n",
              "                             ...                        \n",
              "815    Ahmedabad's Date with Scintillating Shankar! Z...\n",
              "816    A-I to be fully operational soon: Naik Goa to ...\n",
              "817    SACRED SPACEBRTalking Peace THE SPEAKING TREEB...\n",
              "818    Citizen's initiative sought to improve city's ...\n",
              "819    Cricket will always be my first love: Jadeja H...\n",
              "Name: Headlines, Length: 820, dtype: object"
            ]
          },
          "metadata": {
            "tags": []
          },
          "execution_count": 109
        }
      ]
    },
    {
      "cell_type": "code",
      "metadata": {
        "id": "Wi7_CiwxhoLn"
      },
      "source": [
        "#Functions to get the subjectivity and polarity\n",
        "def getSubjectivity(text):\n",
        "  return TextBlob(text).sentiment.subjectivity\n",
        "\n",
        "def getPolarity(text):\n",
        "  return  TextBlob(text).sentiment.polarity"
      ],
      "execution_count": 110,
      "outputs": []
    },
    {
      "cell_type": "code",
      "metadata": {
        "colab": {
          "base_uri": "https://localhost:8080/",
          "height": 407
        },
        "id": "SCoG5LM5h1lZ",
        "outputId": "a7ce0df2-72da-407f-eae9-ccd9db376e91"
      },
      "source": [
        "#Adding subjectivity and polarity columns\n",
        "news_data['Subjectivity'] = news_data['Headlines'].apply(getSubjectivity)\n",
        "news_data['Polarity'] = news_data['Headlines'].apply(getPolarity)\n",
        "news_data"
      ],
      "execution_count": 111,
      "outputs": [
        {
          "output_type": "execute_result",
          "data": {
            "text/html": [
              "<div>\n",
              "<style scoped>\n",
              "    .dataframe tbody tr th:only-of-type {\n",
              "        vertical-align: middle;\n",
              "    }\n",
              "\n",
              "    .dataframe tbody tr th {\n",
              "        vertical-align: top;\n",
              "    }\n",
              "\n",
              "    .dataframe thead th {\n",
              "        text-align: right;\n",
              "    }\n",
              "</style>\n",
              "<table border=\"1\" class=\"dataframe\">\n",
              "  <thead>\n",
              "    <tr style=\"text-align: right;\">\n",
              "      <th></th>\n",
              "      <th>Date</th>\n",
              "      <th>Headlines</th>\n",
              "      <th>Subjectivity</th>\n",
              "      <th>Polarity</th>\n",
              "    </tr>\n",
              "  </thead>\n",
              "  <tbody>\n",
              "    <tr>\n",
              "      <th>0</th>\n",
              "      <td>2001-01-01</td>\n",
              "      <td>win over cena satisfying but defeating underta...</td>\n",
              "      <td>0.633333</td>\n",
              "      <td>0.433333</td>\n",
              "    </tr>\n",
              "    <tr>\n",
              "      <th>1</th>\n",
              "      <td>2001-01-02</td>\n",
              "      <td>Status quo will not be disturbed at Ayodhya; s...</td>\n",
              "      <td>0.282333</td>\n",
              "      <td>0.151333</td>\n",
              "    </tr>\n",
              "    <tr>\n",
              "      <th>2</th>\n",
              "      <td>2001-01-03</td>\n",
              "      <td>Powerless north India gropes in the dark Think...</td>\n",
              "      <td>0.407692</td>\n",
              "      <td>0.088462</td>\n",
              "    </tr>\n",
              "    <tr>\n",
              "      <th>3</th>\n",
              "      <td>2001-01-04</td>\n",
              "      <td>The string that pulled Stephen Hawking to Indi...</td>\n",
              "      <td>0.446847</td>\n",
              "      <td>0.087961</td>\n",
              "    </tr>\n",
              "    <tr>\n",
              "      <th>4</th>\n",
              "      <td>2001-01-05</td>\n",
              "      <td>Light combat craft takes India into club class...</td>\n",
              "      <td>0.476612</td>\n",
              "      <td>0.262024</td>\n",
              "    </tr>\n",
              "    <tr>\n",
              "      <th>...</th>\n",
              "      <td>...</td>\n",
              "      <td>...</td>\n",
              "      <td>...</td>\n",
              "      <td>...</td>\n",
              "    </tr>\n",
              "    <tr>\n",
              "      <th>815</th>\n",
              "      <td>2003-05-07</td>\n",
              "      <td>Ahmedabad's Date with Scintillating Shankar! Z...</td>\n",
              "      <td>0.407296</td>\n",
              "      <td>0.056276</td>\n",
              "    </tr>\n",
              "    <tr>\n",
              "      <th>816</th>\n",
              "      <td>2003-05-08</td>\n",
              "      <td>A-I to be fully operational soon: Naik Goa to ...</td>\n",
              "      <td>0.428932</td>\n",
              "      <td>0.088639</td>\n",
              "    </tr>\n",
              "    <tr>\n",
              "      <th>817</th>\n",
              "      <td>2003-05-09</td>\n",
              "      <td>SACRED SPACEBRTalking Peace THE SPEAKING TREEB...</td>\n",
              "      <td>0.391827</td>\n",
              "      <td>0.103137</td>\n",
              "    </tr>\n",
              "    <tr>\n",
              "      <th>818</th>\n",
              "      <td>2003-05-10</td>\n",
              "      <td>Citizen's initiative sought to improve city's ...</td>\n",
              "      <td>0.415763</td>\n",
              "      <td>0.087931</td>\n",
              "    </tr>\n",
              "    <tr>\n",
              "      <th>819</th>\n",
              "      <td>2003-05-11</td>\n",
              "      <td>Cricket will always be my first love: Jadeja H...</td>\n",
              "      <td>0.387311</td>\n",
              "      <td>0.038939</td>\n",
              "    </tr>\n",
              "  </tbody>\n",
              "</table>\n",
              "<p>820 rows × 4 columns</p>\n",
              "</div>"
            ],
            "text/plain": [
              "          Date  ...  Polarity\n",
              "0   2001-01-01  ...  0.433333\n",
              "1   2001-01-02  ...  0.151333\n",
              "2   2001-01-03  ...  0.088462\n",
              "3   2001-01-04  ...  0.087961\n",
              "4   2001-01-05  ...  0.262024\n",
              "..         ...  ...       ...\n",
              "815 2003-05-07  ...  0.056276\n",
              "816 2003-05-08  ...  0.088639\n",
              "817 2003-05-09  ...  0.103137\n",
              "818 2003-05-10  ...  0.087931\n",
              "819 2003-05-11  ...  0.038939\n",
              "\n",
              "[820 rows x 4 columns]"
            ]
          },
          "metadata": {
            "tags": []
          },
          "execution_count": 111
        }
      ]
    },
    {
      "cell_type": "code",
      "metadata": {
        "colab": {
          "base_uri": "https://localhost:8080/",
          "height": 392
        },
        "id": "gEC7Vz46h93F",
        "outputId": "3e9af43e-e8e1-495a-cd6f-6a60b185b7bc"
      },
      "source": [
        "plt.figure(figsize = (10,6))\n",
        "news_data['Polarity'].hist(color = 'red')"
      ],
      "execution_count": 112,
      "outputs": [
        {
          "output_type": "execute_result",
          "data": {
            "text/plain": [
              "<matplotlib.axes._subplots.AxesSubplot at 0x7fa83d14ec50>"
            ]
          },
          "metadata": {
            "tags": []
          },
          "execution_count": 112
        },
        {
          "output_type": "display_data",
          "data": {
            "image/png": "[encoded data removed]",
            "text/plain": [
              "<Figure size 720x432 with 1 Axes>"
            ]
          },
          "metadata": {
            "tags": [],
            "needs_background": "light"
          }
        }
      ]
    },
    {
      "cell_type": "code",
      "metadata": {
        "colab": {
          "base_uri": "https://localhost:8080/",
          "height": 392
        },
        "id": "8RFZ3eRWiHnQ",
        "outputId": "92aeee21-dcda-44ae-e4db-851a8c908ff2"
      },
      "source": [
        "plt.figure(figsize = (10,6))\n",
        "news_data['Subjectivity'].hist(color = 'green')"
      ],
      "execution_count": 113,
      "outputs": [
        {
          "output_type": "execute_result",
          "data": {
            "text/plain": [
              "<matplotlib.axes._subplots.AxesSubplot at 0x7fa83d1f8710>"
            ]
          },
          "metadata": {
            "tags": []
          },
          "execution_count": 113
        },
        {
          "output_type": "display_data",
          "data": {
            "image/png": "[encoded data removed]",
            "text/plain": [
              "<Figure size 720x432 with 1 Axes>"
            ]
          },
          "metadata": {
            "tags": [],
            "needs_background": "light"
          }
        }
      ]
    },
    {
      "cell_type": "code",
      "metadata": {
        "colab": {
          "base_uri": "https://localhost:8080/",
          "height": 407
        },
        "id": "mzwHb7nBiNTp",
        "outputId": "c933d438-3308-413e-a665-ae96e5644d35"
      },
      "source": [
        "#Adding sentiment score to news\n",
        "sia = SentimentIntensityAnalyzer()\n",
        "\n",
        "news_data['Compound'] = [sia.polarity_scores(v)['compound'] for v in news_data['Headlines']]\n",
        "news_data['Negative'] = [sia.polarity_scores(v)['neg'] for v in news_data['Headlines']]\n",
        "news_data['Neutral'] = [sia.polarity_scores(v)['neu'] for v in news_data['Headlines']]\n",
        "news_data['Positive'] = [sia.polarity_scores(v)['pos'] for v in news_data['Headlines']]\n",
        "news_data"
      ],
      "execution_count": 114,
      "outputs": [
        {
          "output_type": "execute_result",
          "data": {
            "text/html": [
              "<div>\n",
              "<style scoped>\n",
              "    .dataframe tbody tr th:only-of-type {\n",
              "        vertical-align: middle;\n",
              "    }\n",
              "\n",
              "    .dataframe tbody tr th {\n",
              "        vertical-align: top;\n",
              "    }\n",
              "\n",
              "    .dataframe thead th {\n",
              "        text-align: right;\n",
              "    }\n",
              "</style>\n",
              "<table border=\"1\" class=\"dataframe\">\n",
              "  <thead>\n",
              "    <tr style=\"text-align: right;\">\n",
              "      <th></th>\n",
              "      <th>Date</th>\n",
              "      <th>Headlines</th>\n",
              "      <th>Subjectivity</th>\n",
              "      <th>Polarity</th>\n",
              "      <th>Compound</th>\n",
              "      <th>Negative</th>\n",
              "      <th>Neutral</th>\n",
              "      <th>Positive</th>\n",
              "    </tr>\n",
              "  </thead>\n",
              "  <tbody>\n",
              "    <tr>\n",
              "      <th>0</th>\n",
              "      <td>2001-01-01</td>\n",
              "      <td>win over cena satisfying but defeating underta...</td>\n",
              "      <td>0.633333</td>\n",
              "      <td>0.433333</td>\n",
              "      <td>-0.0000</td>\n",
              "      <td>0.230</td>\n",
              "      <td>0.473</td>\n",
              "      <td>0.297</td>\n",
              "    </tr>\n",
              "    <tr>\n",
              "      <th>1</th>\n",
              "      <td>2001-01-02</td>\n",
              "      <td>Status quo will not be disturbed at Ayodhya; s...</td>\n",
              "      <td>0.282333</td>\n",
              "      <td>0.151333</td>\n",
              "      <td>-0.9811</td>\n",
              "      <td>0.122</td>\n",
              "      <td>0.807</td>\n",
              "      <td>0.071</td>\n",
              "    </tr>\n",
              "    <tr>\n",
              "      <th>2</th>\n",
              "      <td>2001-01-03</td>\n",
              "      <td>Powerless north India gropes in the dark Think...</td>\n",
              "      <td>0.407692</td>\n",
              "      <td>0.088462</td>\n",
              "      <td>-0.2640</td>\n",
              "      <td>0.122</td>\n",
              "      <td>0.766</td>\n",
              "      <td>0.111</td>\n",
              "    </tr>\n",
              "    <tr>\n",
              "      <th>3</th>\n",
              "      <td>2001-01-04</td>\n",
              "      <td>The string that pulled Stephen Hawking to Indi...</td>\n",
              "      <td>0.446847</td>\n",
              "      <td>0.087961</td>\n",
              "      <td>0.8738</td>\n",
              "      <td>0.100</td>\n",
              "      <td>0.797</td>\n",
              "      <td>0.103</td>\n",
              "    </tr>\n",
              "    <tr>\n",
              "      <th>4</th>\n",
              "      <td>2001-01-05</td>\n",
              "      <td>Light combat craft takes India into club class...</td>\n",
              "      <td>0.476612</td>\n",
              "      <td>0.262024</td>\n",
              "      <td>0.9633</td>\n",
              "      <td>0.124</td>\n",
              "      <td>0.722</td>\n",
              "      <td>0.154</td>\n",
              "    </tr>\n",
              "    <tr>\n",
              "      <th>...</th>\n",
              "      <td>...</td>\n",
              "      <td>...</td>\n",
              "      <td>...</td>\n",
              "      <td>...</td>\n",
              "      <td>...</td>\n",
              "      <td>...</td>\n",
              "      <td>...</td>\n",
              "      <td>...</td>\n",
              "    </tr>\n",
              "    <tr>\n",
              "      <th>815</th>\n",
              "      <td>2003-05-07</td>\n",
              "      <td>Ahmedabad's Date with Scintillating Shankar! Z...</td>\n",
              "      <td>0.407296</td>\n",
              "      <td>0.056276</td>\n",
              "      <td>-0.9985</td>\n",
              "      <td>0.151</td>\n",
              "      <td>0.739</td>\n",
              "      <td>0.109</td>\n",
              "    </tr>\n",
              "    <tr>\n",
              "      <th>816</th>\n",
              "      <td>2003-05-08</td>\n",
              "      <td>A-I to be fully operational soon: Naik Goa to ...</td>\n",
              "      <td>0.428932</td>\n",
              "      <td>0.088639</td>\n",
              "      <td>-0.9994</td>\n",
              "      <td>0.176</td>\n",
              "      <td>0.713</td>\n",
              "      <td>0.111</td>\n",
              "    </tr>\n",
              "    <tr>\n",
              "      <th>817</th>\n",
              "      <td>2003-05-09</td>\n",
              "      <td>SACRED SPACEBRTalking Peace THE SPEAKING TREEB...</td>\n",
              "      <td>0.391827</td>\n",
              "      <td>0.103137</td>\n",
              "      <td>-0.9911</td>\n",
              "      <td>0.142</td>\n",
              "      <td>0.731</td>\n",
              "      <td>0.127</td>\n",
              "    </tr>\n",
              "    <tr>\n",
              "      <th>818</th>\n",
              "      <td>2003-05-10</td>\n",
              "      <td>Citizen's initiative sought to improve city's ...</td>\n",
              "      <td>0.415763</td>\n",
              "      <td>0.087931</td>\n",
              "      <td>-0.9993</td>\n",
              "      <td>0.154</td>\n",
              "      <td>0.756</td>\n",
              "      <td>0.090</td>\n",
              "    </tr>\n",
              "    <tr>\n",
              "      <th>819</th>\n",
              "      <td>2003-05-11</td>\n",
              "      <td>Cricket will always be my first love: Jadeja H...</td>\n",
              "      <td>0.387311</td>\n",
              "      <td>0.038939</td>\n",
              "      <td>-0.1764</td>\n",
              "      <td>0.100</td>\n",
              "      <td>0.782</td>\n",
              "      <td>0.118</td>\n",
              "    </tr>\n",
              "  </tbody>\n",
              "</table>\n",
              "<p>820 rows × 8 columns</p>\n",
              "</div>"
            ],
            "text/plain": [
              "          Date  ... Positive\n",
              "0   2001-01-01  ...    0.297\n",
              "1   2001-01-02  ...    0.071\n",
              "2   2001-01-03  ...    0.111\n",
              "3   2001-01-04  ...    0.103\n",
              "4   2001-01-05  ...    0.154\n",
              "..         ...  ...      ...\n",
              "815 2003-05-07  ...    0.109\n",
              "816 2003-05-08  ...    0.111\n",
              "817 2003-05-09  ...    0.127\n",
              "818 2003-05-10  ...    0.090\n",
              "819 2003-05-11  ...    0.118\n",
              "\n",
              "[820 rows x 8 columns]"
            ]
          },
          "metadata": {
            "tags": []
          },
          "execution_count": 114
        }
      ]
    },
    {
      "cell_type": "code",
      "metadata": {
        "colab": {
          "base_uri": "https://localhost:8080/",
          "height": 407
        },
        "id": "M6PlxwqKiY8b",
        "outputId": "ae1f5c77-4a60-4e87-8bc3-2860752e9d27"
      },
      "source": [
        "merge = news_data\n",
        "dff = merge[['Subjectivity', 'Polarity', 'Compound', 'Negative', 'Neutral' ,'Positive']]\n",
        "dff"
      ],
      "execution_count": 115,
      "outputs": [
        {
          "output_type": "execute_result",
          "data": {
            "text/html": [
              "<div>\n",
              "<style scoped>\n",
              "    .dataframe tbody tr th:only-of-type {\n",
              "        vertical-align: middle;\n",
              "    }\n",
              "\n",
              "    .dataframe tbody tr th {\n",
              "        vertical-align: top;\n",
              "    }\n",
              "\n",
              "    .dataframe thead th {\n",
              "        text-align: right;\n",
              "    }\n",
              "</style>\n",
              "<table border=\"1\" class=\"dataframe\">\n",
              "  <thead>\n",
              "    <tr style=\"text-align: right;\">\n",
              "      <th></th>\n",
              "      <th>Subjectivity</th>\n",
              "      <th>Polarity</th>\n",
              "      <th>Compound</th>\n",
              "      <th>Negative</th>\n",
              "      <th>Neutral</th>\n",
              "      <th>Positive</th>\n",
              "    </tr>\n",
              "  </thead>\n",
              "  <tbody>\n",
              "    <tr>\n",
              "      <th>0</th>\n",
              "      <td>0.633333</td>\n",
              "      <td>0.433333</td>\n",
              "      <td>-0.0000</td>\n",
              "      <td>0.230</td>\n",
              "      <td>0.473</td>\n",
              "      <td>0.297</td>\n",
              "    </tr>\n",
              "    <tr>\n",
              "      <th>1</th>\n",
              "      <td>0.282333</td>\n",
              "      <td>0.151333</td>\n",
              "      <td>-0.9811</td>\n",
              "      <td>0.122</td>\n",
              "      <td>0.807</td>\n",
              "      <td>0.071</td>\n",
              "    </tr>\n",
              "    <tr>\n",
              "      <th>2</th>\n",
              "      <td>0.407692</td>\n",
              "      <td>0.088462</td>\n",
              "      <td>-0.2640</td>\n",
              "      <td>0.122</td>\n",
              "      <td>0.766</td>\n",
              "      <td>0.111</td>\n",
              "    </tr>\n",
              "    <tr>\n",
              "      <th>3</th>\n",
              "      <td>0.446847</td>\n",
              "      <td>0.087961</td>\n",
              "      <td>0.8738</td>\n",
              "      <td>0.100</td>\n",
              "      <td>0.797</td>\n",
              "      <td>0.103</td>\n",
              "    </tr>\n",
              "    <tr>\n",
              "      <th>4</th>\n",
              "      <td>0.476612</td>\n",
              "      <td>0.262024</td>\n",
              "      <td>0.9633</td>\n",
              "      <td>0.124</td>\n",
              "      <td>0.722</td>\n",
              "      <td>0.154</td>\n",
              "    </tr>\n",
              "    <tr>\n",
              "      <th>...</th>\n",
              "      <td>...</td>\n",
              "      <td>...</td>\n",
              "      <td>...</td>\n",
              "      <td>...</td>\n",
              "      <td>...</td>\n",
              "      <td>...</td>\n",
              "    </tr>\n",
              "    <tr>\n",
              "      <th>815</th>\n",
              "      <td>0.407296</td>\n",
              "      <td>0.056276</td>\n",
              "      <td>-0.9985</td>\n",
              "      <td>0.151</td>\n",
              "      <td>0.739</td>\n",
              "      <td>0.109</td>\n",
              "    </tr>\n",
              "    <tr>\n",
              "      <th>816</th>\n",
              "      <td>0.428932</td>\n",
              "      <td>0.088639</td>\n",
              "      <td>-0.9994</td>\n",
              "      <td>0.176</td>\n",
              "      <td>0.713</td>\n",
              "      <td>0.111</td>\n",
              "    </tr>\n",
              "    <tr>\n",
              "      <th>817</th>\n",
              "      <td>0.391827</td>\n",
              "      <td>0.103137</td>\n",
              "      <td>-0.9911</td>\n",
              "      <td>0.142</td>\n",
              "      <td>0.731</td>\n",
              "      <td>0.127</td>\n",
              "    </tr>\n",
              "    <tr>\n",
              "      <th>818</th>\n",
              "      <td>0.415763</td>\n",
              "      <td>0.087931</td>\n",
              "      <td>-0.9993</td>\n",
              "      <td>0.154</td>\n",
              "      <td>0.756</td>\n",
              "      <td>0.090</td>\n",
              "    </tr>\n",
              "    <tr>\n",
              "      <th>819</th>\n",
              "      <td>0.387311</td>\n",
              "      <td>0.038939</td>\n",
              "      <td>-0.1764</td>\n",
              "      <td>0.100</td>\n",
              "      <td>0.782</td>\n",
              "      <td>0.118</td>\n",
              "    </tr>\n",
              "  </tbody>\n",
              "</table>\n",
              "<p>820 rows × 6 columns</p>\n",
              "</div>"
            ],
            "text/plain": [
              "     Subjectivity  Polarity  Compound  Negative  Neutral  Positive\n",
              "0        0.633333  0.433333   -0.0000     0.230    0.473     0.297\n",
              "1        0.282333  0.151333   -0.9811     0.122    0.807     0.071\n",
              "2        0.407692  0.088462   -0.2640     0.122    0.766     0.111\n",
              "3        0.446847  0.087961    0.8738     0.100    0.797     0.103\n",
              "4        0.476612  0.262024    0.9633     0.124    0.722     0.154\n",
              "..            ...       ...       ...       ...      ...       ...\n",
              "815      0.407296  0.056276   -0.9985     0.151    0.739     0.109\n",
              "816      0.428932  0.088639   -0.9994     0.176    0.713     0.111\n",
              "817      0.391827  0.103137   -0.9911     0.142    0.731     0.127\n",
              "818      0.415763  0.087931   -0.9993     0.154    0.756     0.090\n",
              "819      0.387311  0.038939   -0.1764     0.100    0.782     0.118\n",
              "\n",
              "[820 rows x 6 columns]"
            ]
          },
          "metadata": {
            "tags": []
          },
          "execution_count": 115
        }
      ]
    },
    {
      "cell_type": "code",
      "metadata": {
        "colab": {
          "base_uri": "https://localhost:8080/",
          "height": 198
        },
        "id": "pHczAjS2jQQ-",
        "outputId": "55071b94-e9a3-4a1e-d4a2-f1ab446418d2"
      },
      "source": [
        "sc = MinMaxScaler()\n",
        "new_df = pd.DataFrame(sc.fit_transform(dff))\n",
        "new_df.columns = dff.columns\n",
        "new_df.index = dff.index\n",
        "new_df.head()"
      ],
      "execution_count": 116,
      "outputs": [
        {
          "output_type": "execute_result",
          "data": {
            "text/html": [
              "<div>\n",
              "<style scoped>\n",
              "    .dataframe tbody tr th:only-of-type {\n",
              "        vertical-align: middle;\n",
              "    }\n",
              "\n",
              "    .dataframe tbody tr th {\n",
              "        vertical-align: top;\n",
              "    }\n",
              "\n",
              "    .dataframe thead th {\n",
              "        text-align: right;\n",
              "    }\n",
              "</style>\n",
              "<table border=\"1\" class=\"dataframe\">\n",
              "  <thead>\n",
              "    <tr style=\"text-align: right;\">\n",
              "      <th></th>\n",
              "      <th>Subjectivity</th>\n",
              "      <th>Polarity</th>\n",
              "      <th>Compound</th>\n",
              "      <th>Negative</th>\n",
              "      <th>Neutral</th>\n",
              "      <th>Positive</th>\n",
              "    </tr>\n",
              "  </thead>\n",
              "  <tbody>\n",
              "    <tr>\n",
              "      <th>0</th>\n",
              "      <td>0.633333</td>\n",
              "      <td>0.740741</td>\n",
              "      <td>0.500576</td>\n",
              "      <td>0.518018</td>\n",
              "      <td>0.473</td>\n",
              "      <td>0.488487</td>\n",
              "    </tr>\n",
              "    <tr>\n",
              "      <th>1</th>\n",
              "      <td>0.282333</td>\n",
              "      <td>0.427407</td>\n",
              "      <td>0.009412</td>\n",
              "      <td>0.274775</td>\n",
              "      <td>0.807</td>\n",
              "      <td>0.116776</td>\n",
              "    </tr>\n",
              "    <tr>\n",
              "      <th>2</th>\n",
              "      <td>0.407692</td>\n",
              "      <td>0.357550</td>\n",
              "      <td>0.368411</td>\n",
              "      <td>0.274775</td>\n",
              "      <td>0.766</td>\n",
              "      <td>0.182566</td>\n",
              "    </tr>\n",
              "    <tr>\n",
              "      <th>3</th>\n",
              "      <td>0.446847</td>\n",
              "      <td>0.356994</td>\n",
              "      <td>0.938023</td>\n",
              "      <td>0.225225</td>\n",
              "      <td>0.797</td>\n",
              "      <td>0.169408</td>\n",
              "    </tr>\n",
              "    <tr>\n",
              "      <th>4</th>\n",
              "      <td>0.476612</td>\n",
              "      <td>0.550397</td>\n",
              "      <td>0.982829</td>\n",
              "      <td>0.279279</td>\n",
              "      <td>0.722</td>\n",
              "      <td>0.253289</td>\n",
              "    </tr>\n",
              "  </tbody>\n",
              "</table>\n",
              "</div>"
            ],
            "text/plain": [
              "   Subjectivity  Polarity  Compound  Negative  Neutral  Positive\n",
              "0      0.633333  0.740741  0.500576  0.518018    0.473  0.488487\n",
              "1      0.282333  0.427407  0.009412  0.274775    0.807  0.116776\n",
              "2      0.407692  0.357550  0.368411  0.274775    0.766  0.182566\n",
              "3      0.446847  0.356994  0.938023  0.225225    0.797  0.169408\n",
              "4      0.476612  0.550397  0.982829  0.279279    0.722  0.253289"
            ]
          },
          "metadata": {
            "tags": []
          },
          "execution_count": 116
        }
      ]
    },
    {
      "cell_type": "code",
      "metadata": {
        "id": "HKRY0vmJjT7G"
      },
      "source": [
        "X = new_df[0:249]\n",
        "y =dataset['Close']"
      ],
      "execution_count": 117,
      "outputs": []
    },
    {
      "cell_type": "code",
      "metadata": {
        "colab": {
          "base_uri": "https://localhost:8080/"
        },
        "id": "l6EvBHOzjZPi",
        "outputId": "9f3125a9-2e7c-41c4-f5e4-4b4f620efb90"
      },
      "source": [
        "from sklearn.model_selection import train_test_split\n",
        "x_train, x_test, y_train, y_test = train_test_split(X, y, test_size=0.2, random_state = 0)\n",
        "x_train.shape"
      ],
      "execution_count": 118,
      "outputs": [
        {
          "output_type": "execute_result",
          "data": {
            "text/plain": [
              "(199, 6)"
            ]
          },
          "metadata": {
            "tags": []
          },
          "execution_count": 118
        }
      ]
    },
    {
      "cell_type": "code",
      "metadata": {
        "colab": {
          "base_uri": "https://localhost:8080/",
          "height": 348
        },
        "id": "ZUzBhSBhjive",
        "outputId": "e44a5403-eaf7-4496-f6ef-b4f04ec3ee5e"
      },
      "source": [
        "x_train[:10]"
      ],
      "execution_count": 119,
      "outputs": [
        {
          "output_type": "execute_result",
          "data": {
            "text/html": [
              "<div>\n",
              "<style scoped>\n",
              "    .dataframe tbody tr th:only-of-type {\n",
              "        vertical-align: middle;\n",
              "    }\n",
              "\n",
              "    .dataframe tbody tr th {\n",
              "        vertical-align: top;\n",
              "    }\n",
              "\n",
              "    .dataframe thead th {\n",
              "        text-align: right;\n",
              "    }\n",
              "</style>\n",
              "<table border=\"1\" class=\"dataframe\">\n",
              "  <thead>\n",
              "    <tr style=\"text-align: right;\">\n",
              "      <th></th>\n",
              "      <th>Subjectivity</th>\n",
              "      <th>Polarity</th>\n",
              "      <th>Compound</th>\n",
              "      <th>Negative</th>\n",
              "      <th>Neutral</th>\n",
              "      <th>Positive</th>\n",
              "    </tr>\n",
              "  </thead>\n",
              "  <tbody>\n",
              "    <tr>\n",
              "      <th>108</th>\n",
              "      <td>0.405833</td>\n",
              "      <td>0.540833</td>\n",
              "      <td>0.025081</td>\n",
              "      <td>0.373874</td>\n",
              "      <td>0.734</td>\n",
              "      <td>0.164474</td>\n",
              "    </tr>\n",
              "    <tr>\n",
              "      <th>18</th>\n",
              "      <td>0.375486</td>\n",
              "      <td>0.391781</td>\n",
              "      <td>0.099975</td>\n",
              "      <td>0.364865</td>\n",
              "      <td>0.709</td>\n",
              "      <td>0.212171</td>\n",
              "    </tr>\n",
              "    <tr>\n",
              "      <th>205</th>\n",
              "      <td>0.433601</td>\n",
              "      <td>0.297440</td>\n",
              "      <td>0.003805</td>\n",
              "      <td>0.272523</td>\n",
              "      <td>0.772</td>\n",
              "      <td>0.175987</td>\n",
              "    </tr>\n",
              "    <tr>\n",
              "      <th>15</th>\n",
              "      <td>0.383333</td>\n",
              "      <td>0.339506</td>\n",
              "      <td>0.978173</td>\n",
              "      <td>0.171171</td>\n",
              "      <td>0.780</td>\n",
              "      <td>0.235197</td>\n",
              "    </tr>\n",
              "    <tr>\n",
              "      <th>71</th>\n",
              "      <td>0.344118</td>\n",
              "      <td>0.308279</td>\n",
              "      <td>0.008360</td>\n",
              "      <td>0.522523</td>\n",
              "      <td>0.616</td>\n",
              "      <td>0.250000</td>\n",
              "    </tr>\n",
              "    <tr>\n",
              "      <th>7</th>\n",
              "      <td>0.414653</td>\n",
              "      <td>0.237911</td>\n",
              "      <td>0.011014</td>\n",
              "      <td>0.272523</td>\n",
              "      <td>0.812</td>\n",
              "      <td>0.108553</td>\n",
              "    </tr>\n",
              "    <tr>\n",
              "      <th>228</th>\n",
              "      <td>0.358700</td>\n",
              "      <td>0.246596</td>\n",
              "      <td>0.000300</td>\n",
              "      <td>0.362613</td>\n",
              "      <td>0.772</td>\n",
              "      <td>0.111842</td>\n",
              "    </tr>\n",
              "    <tr>\n",
              "      <th>180</th>\n",
              "      <td>0.419285</td>\n",
              "      <td>0.357075</td>\n",
              "      <td>0.000701</td>\n",
              "      <td>0.265766</td>\n",
              "      <td>0.808</td>\n",
              "      <td>0.121711</td>\n",
              "    </tr>\n",
              "    <tr>\n",
              "      <th>146</th>\n",
              "      <td>0.750000</td>\n",
              "      <td>0.814815</td>\n",
              "      <td>0.836245</td>\n",
              "      <td>0.121622</td>\n",
              "      <td>0.765</td>\n",
              "      <td>0.297697</td>\n",
              "    </tr>\n",
              "    <tr>\n",
              "      <th>160</th>\n",
              "      <td>0.338659</td>\n",
              "      <td>0.281909</td>\n",
              "      <td>0.000451</td>\n",
              "      <td>0.351351</td>\n",
              "      <td>0.777</td>\n",
              "      <td>0.110197</td>\n",
              "    </tr>\n",
              "  </tbody>\n",
              "</table>\n",
              "</div>"
            ],
            "text/plain": [
              "     Subjectivity  Polarity  Compound  Negative  Neutral  Positive\n",
              "108      0.405833  0.540833  0.025081  0.373874    0.734  0.164474\n",
              "18       0.375486  0.391781  0.099975  0.364865    0.709  0.212171\n",
              "205      0.433601  0.297440  0.003805  0.272523    0.772  0.175987\n",
              "15       0.383333  0.339506  0.978173  0.171171    0.780  0.235197\n",
              "71       0.344118  0.308279  0.008360  0.522523    0.616  0.250000\n",
              "7        0.414653  0.237911  0.011014  0.272523    0.812  0.108553\n",
              "228      0.358700  0.246596  0.000300  0.362613    0.772  0.111842\n",
              "180      0.419285  0.357075  0.000701  0.265766    0.808  0.121711\n",
              "146      0.750000  0.814815  0.836245  0.121622    0.765  0.297697\n",
              "160      0.338659  0.281909  0.000451  0.351351    0.777  0.110197"
            ]
          },
          "metadata": {
            "tags": []
          },
          "execution_count": 119
        }
      ]
    },
    {
      "cell_type": "code",
      "metadata": {
        "id": "FD7x4Fmfjkwm"
      },
      "source": [
        "rf = RandomForestRegressor()\n",
        "rf.fit(x_train, y_train)\n",
        "prediction=rf.predict(x_test)"
      ],
      "execution_count": 120,
      "outputs": []
    },
    {
      "cell_type": "code",
      "metadata": {
        "colab": {
          "base_uri": "https://localhost:8080/"
        },
        "id": "9b8kRjbkjntA",
        "outputId": "665fad4a-7607-4002-a207-fbf275537438"
      },
      "source": [
        "print(prediction[:10])\n",
        "print(y_test[:10])\n",
        "print(\"Root mean square error (Random Forest Regressor) = \",math.sqrt(mean_squared_error(prediction,y_test)),\" RMSE\")"
      ],
      "execution_count": 121,
      "outputs": [
        {
          "output_type": "stream",
          "text": [
            "[35995.1661339  37186.6857241  38663.1114666  37150.02894137\n",
            " 36585.00793278 39624.4682615  38872.9163876  35429.2587126\n",
            " 38842.9136737  38007.1623649 ]\n",
            "Date\n",
            "2020-10-16    39982.98047\n",
            "2020-06-25    34842.10156\n",
            "2020-02-06    41306.03125\n",
            "2020-06-01    33303.51953\n",
            "2020-05-22    30672.58984\n",
            "2020-02-03    39872.30859\n",
            "2019-12-23    41642.66016\n",
            "2020-06-12    33780.89063\n",
            "2020-09-03    38990.94141\n",
            "2020-08-27    39113.46875\n",
            "Name: Close, dtype: float64\n",
            "Root mean square error (Random Forest Regressor) =  4028.824278503002  RMSE\n"
          ],
          "name": "stdout"
        }
      ]
    },
    {
      "cell_type": "code",
      "metadata": {
        "id": "CnntceSbkV0d"
      },
      "source": [
        "LR = LinearRegression()\n",
        "LR.fit(x_train,y_train)\n",
        "prediction=LR.predict(x_test)"
      ],
      "execution_count": 122,
      "outputs": []
    },
    {
      "cell_type": "code",
      "metadata": {
        "colab": {
          "base_uri": "https://localhost:8080/"
        },
        "id": "gNXXeGgxlEVo",
        "outputId": "dd253955-f307-4063-a2b5-9082c896df8e"
      },
      "source": [
        "print(prediction[:10])\n",
        "print(y_test[:10])\n",
        "print(\"Root mean square error (Linear Regression Model) = \",math.sqrt(mean_squared_error(prediction,y_test)),\" RMSE\")"
      ],
      "execution_count": 123,
      "outputs": [
        {
          "output_type": "stream",
          "text": [
            "[37117.49811329 36992.08816627 37101.05181672 36950.70399162\n",
            " 36418.87035761 38182.80114315 37168.86870671 36657.30047249\n",
            " 37183.44831727 36078.11831388]\n",
            "Date\n",
            "2020-10-16    39982.98047\n",
            "2020-06-25    34842.10156\n",
            "2020-02-06    41306.03125\n",
            "2020-06-01    33303.51953\n",
            "2020-05-22    30672.58984\n",
            "2020-02-03    39872.30859\n",
            "2019-12-23    41642.66016\n",
            "2020-06-12    33780.89063\n",
            "2020-09-03    38990.94141\n",
            "2020-08-27    39113.46875\n",
            "Name: Close, dtype: float64\n",
            "Root mean square error (Linear Regression Model) =  4045.3519050705563  RMSE\n"
          ],
          "name": "stdout"
        }
      ]
    },
    {
      "cell_type": "markdown",
      "metadata": {
        "id": "4mCm1C2SWr2s"
      },
      "source": [
        "# **Conclusion**\n",
        "\n",
        "I have used two models, i.e., Random Forest Regressor and Linear Regression to carry out hybrid analysis. From the RMSE values we see that Random Forest Regressor gives a mode accurate output (4028 RMSE). However, both the models have very high RMSE values. The reason for high values is the unpredictible nature of the stock prices."
      ]
    }
  ]
}